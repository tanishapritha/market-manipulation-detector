{
 "cells": [
  {
   "cell_type": "code",
   "execution_count": null,
   "id": "d6928743",
   "metadata": {},
   "outputs": [
    {
     "name": "stdout",
     "output_type": "stream",
     "text": [
      "Index(['id', 'time', 'author', 'title', 'content', 'original', 'score',\n",
      "       'num_comments', 'sentiment_neg', 'sentiment_neu', 'sentiment_pos',\n",
      "       'sentiment_compound'],\n",
      "      dtype='object')\n",
      "        id                 time            author  \\\n",
      "0  1l7wetd  2025-06-10T11:34:37            nobjos   \n",
      "1   msblc3  2021-04-16T20:20:13  DeepFuckingValue   \n",
      "2   l78uct  2021-01-28T21:06:23  DeepFuckingValue   \n",
      "\n",
      "                                               title  \\\n",
      "0  Should you buy the dip? I analyzed all S&P 500...   \n",
      "1       GME YOLO update — Apr 16 2021 — final update   \n",
      "2                      GME YOLO update — Jan 28 2021   \n",
      "\n",
      "                                             content  \\\n",
      "0  Should you buy the dip? I analyzed all S&P 500...   \n",
      "1      GME YOLO update — Apr 16 2021 — final update.   \n",
      "2                     GME YOLO update — Jan 28 2021.   \n",
      "\n",
      "                                            original   score  num_comments  \\\n",
      "0  Should you buy the dip? I analyzed all S&P 500...     621           179   \n",
      "1     GME YOLO update — Apr 16 2021 — final update.   176297         17816   \n",
      "2                    GME YOLO update — Jan 28 2021.   301704         22935   \n",
      "\n",
      "   sentiment_neg  sentiment_neu  sentiment_pos  sentiment_compound  \n",
      "0          0.017          0.915          0.069              0.9370  \n",
      "1          0.000          0.761          0.239              0.4278  \n",
      "2          0.000          0.679          0.321              0.4278  \n"
     ]
    }
   ],
   "source": [
    "# quick_check.py\n",
    "import pandas as pd\n",
    "\n",
    "df = pd.read_csv(\"../src/data/processed/reddit_GME.csv\")\n",
    "print(df.columns)\n",
    "print(df.head(3))\n"
   ]
  },
  {
   "cell_type": "code",
   "execution_count": 2,
   "id": "4202faa6",
   "metadata": {},
   "outputs": [
    {
     "name": "stdout",
     "output_type": "stream",
     "text": [
      "Empty DataFrame\n",
      "Columns: [Close, High, Low, Open, Volume, price_return, return_3h_mean, return_3h_std, volume_zscore, reddit_sentiment_mean, reddit_message_count, twitter_sentiment_mean, twitter_message_count]\n",
      "Index: []\n"
     ]
    }
   ],
   "source": [
    "import pandas as pd\n",
    "\n",
    "df = pd.read_csv(\"../data/final/GME_features.csv\", parse_dates=[\"time\"])\n",
    "df.set_index(\"time\", inplace=True)\n",
    "\n",
    "# Show rows where Reddit or Twitter data is present\n",
    "print(df[(df[\"reddit_message_count\"] > 0) | (df[\"twitter_message_count\"] > 0)].head(10))\n"
   ]
  },
  {
   "cell_type": "code",
   "execution_count": 3,
   "id": "7c7125e4",
   "metadata": {},
   "outputs": [
    {
     "name": "stdout",
     "output_type": "stream",
     "text": [
      "Empty DataFrame\n",
      "Columns: [Close, High, Low, Open, Volume, price_return, return_3h_mean, return_3h_std, volume_zscore, reddit_sentiment_mean, reddit_message_count, twitter_sentiment_mean, twitter_message_count]\n",
      "Index: []\n"
     ]
    }
   ],
   "source": [
    "import pandas as pd\n",
    "\n",
    "# Load merged data\n",
    "df = pd.read_csv(\"../data/final/GME_features.csv\", parse_dates=[\"time\"])\n",
    "df.set_index(\"time\", inplace=True)\n",
    "\n",
    "# Check rows with actual social activity\n",
    "print(df[(df[\"reddit_message_count\"] > 0) | (df[\"twitter_message_count\"] > 0)].head(20))\n"
   ]
  },
  {
   "cell_type": "code",
   "execution_count": null,
   "id": "69a09c56",
   "metadata": {},
   "outputs": [],
   "source": []
  }
 ],
 "metadata": {
  "kernelspec": {
   "display_name": "venv311",
   "language": "python",
   "name": "python3"
  },
  "language_info": {
   "codemirror_mode": {
    "name": "ipython",
    "version": 3
   },
   "file_extension": ".py",
   "mimetype": "text/x-python",
   "name": "python",
   "nbconvert_exporter": "python",
   "pygments_lexer": "ipython3",
   "version": "3.11.9"
  }
 },
 "nbformat": 4,
 "nbformat_minor": 5
}
