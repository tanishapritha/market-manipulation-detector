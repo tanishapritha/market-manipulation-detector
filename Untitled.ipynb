{
 "cells": [
  {
   "cell_type": "code",
   "execution_count": 1,
   "id": "fad22d9a-d5b8-40dc-975e-31040735a65e",
   "metadata": {},
   "outputs": [
    {
     "name": "stdout",
     "output_type": "stream",
     "text": [
      "{'id': '1l7wetd', 'time': '2025-06-10T11:34:37', 'title': 'Should you buy the dip? I analyzed all S&P 500 companies to find what happens if we only invest in companies undergoing drawdowns.', 'text': 'To test, I picked all the companies in the S&P 500 list as of 2015. The backtest is simple— If a company drops by 50%, we invest $100 in that company and then hold.\\n\\nI immediately ran into an issue. Out of the 502 companies on the list, 262 companies experienced a drawdown of more than 50% over the last 10 years. If you end up investing in all of them, your average return will be comparable to the index since you are holding half the index.\\xa0*(Average return of 114% for the drawdown portfolio vs. 123% for the S&P 500).*\\n\\n**Where it gets interesting is when we increase the drawdown cutoffs.**\\n\\n# Drawdown cutoff — 75%\\n\\n* Number of stocks: 91\\n* Total amount of investment: $9,500\\n* Drawdown portfolio final value (June’25): $23,903\\xa0**(151% return)**\\n* Comparable S&P 500 index: $20,467\\xa0**(115% return)**\\n* Alpha\\xa0— 36%\\n* Median return: 68.4%\\n\\n# Drawdown cutoff — 90%\\n\\n* Number of stocks: 36\\n* Total amount of investment: $3,600\\n* Drawdown portfolio final value (June’25): $12,120\\xa0**(236% return)**\\n* Comparable S&P 500 index: $6,705\\xa0**(86% return)**\\n* Alpha — 150%\\n* Median return: 75%\\n\\nhttps://preview.redd.it/onw4wzll536f1.png?width=690&format=png&auto=webp&s=8fdcd1f752cdb88770556fa05cb84b040443342b\\n\\n*Backtest data & company list —*\\xa0[***here***](https://docs.google.com/spreadsheets/d/1QeYOmr4oWu1_SX3hFk47nKzs7mE9oGQfY4dfWnmnxzY/edit?usp=sharing)\\n\\n# Best and worst performers\\n\\nAs you would expect, investing in companies that had significant drawdowns would be highly volatile. After all, a stock that went down 90% can again go down another 90%!\\n\\nBuy and hold seems to be the best strategy, as there would be many multi-baggers..\\n\\nhttps://preview.redd.it/5d1ei1o6536f1.png?width=640&format=png&auto=webp&s=e1ff2ad280ece973152ba2afcc494a223b13720d\\n\\n.. and a lot of zeros in your portfolio.\\n\\nhttps://preview.redd.it/g8qyb1u7536f1.png?width=640&format=png&auto=webp&s=8b14718ae78896365ba820b3cbb5a43fd4ba833d\\n\\n  \\n**Notes** \\n\\n* S&P 500 as of 2015. Adjusted for survivorship bias \\n* If a company rebounds to a new all-time high and then drops again, we will again invest.\\n* Alpha is not risk-adjusted ', 'score': 621, 'num_comments': 179, 'author': 'nobjos'}\n",
      "100\n"
     ]
    }
   ],
   "source": [
    "import json\n",
    "\n",
    "with open(\"src/data/social/reddit_GME.json\", \"r\", encoding=\"utf-8\") as f:\n",
    "    data = json.load(f)\n",
    "\n",
    "print(data[0])  # Print one post\n",
    "print(len(data))  # Total posts\n"
   ]
  },
  {
   "cell_type": "code",
   "execution_count": null,
   "id": "7d161666-e5e6-4c89-8e68-7bf21dad2e1d",
   "metadata": {},
   "outputs": [],
   "source": []
  }
 ],
 "metadata": {
  "kernelspec": {
   "display_name": "Python (myenv)",
   "language": "python",
   "name": "myenv"
  },
  "language_info": {
   "codemirror_mode": {
    "name": "ipython",
    "version": 3
   },
   "file_extension": ".py",
   "mimetype": "text/x-python",
   "name": "python",
   "nbconvert_exporter": "python",
   "pygments_lexer": "ipython3",
   "version": "3.13.1"
  }
 },
 "nbformat": 4,
 "nbformat_minor": 5
}
